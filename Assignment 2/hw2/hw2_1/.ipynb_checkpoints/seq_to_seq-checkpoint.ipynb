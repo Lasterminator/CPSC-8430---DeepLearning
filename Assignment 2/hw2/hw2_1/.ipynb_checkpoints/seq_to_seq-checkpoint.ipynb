{
 "cells": [
  {
   "cell_type": "code",
   "execution_count": 1,
   "id": "b3ed5ad5-81c5-4b8b-ae36-1a16cd34e677",
   "metadata": {},
   "outputs": [],
   "source": [
    "import torch.optim as optim\n",
    "import time\n",
    "import torch\n",
    "import torch.nn as nn\n",
    "from torch.autograd import Variable\n",
    "import torch.nn.functional as F\n",
    "import numpy as np\n",
    "import random\n",
    "from scipy.special import expit\n",
    "import sys\n",
    "import os\n",
    "import json\n",
    "from collections import Counter\n",
    "import re\n",
    "import pickle\n",
    "from torch.utils.data import DataLoader, Dataset\n",
    "import matplotlib.pyplot as plt\n",
    "from tqdm import tqdm"
   ]
  },
  {
   "cell_type": "code",
   "execution_count": 2,
   "id": "d78d3d32-381c-4bf1-99b2-aa54e9e82fd0",
   "metadata": {},
   "outputs": [],
   "source": [
    "SRC_DIR = \"../MLDS_hw2_1_data\""
   ]
  },
  {
   "cell_type": "code",
   "execution_count": 3,
   "id": "5f1bced2-856d-43de-9ce0-b49ac2fc2a81",
   "metadata": {},
   "outputs": [],
   "source": [
    "def data_preprocess():\n",
    "    with open(os.path.join(SRC_DIR, 'training_label.json'), 'r') as f:\n",
    "        data = json.load(f)\n",
    "\n",
    "    word_count = Counter()\n",
    "                    \n",
    "    for entry in data:\n",
    "        for sentence in entry['caption']:\n",
    "            words = re.sub('[.!,;?]', ' ', sentence).split()\n",
    "            word_count.update(words)\n",
    "\n",
    "    word_dict = {}\n",
    "    for word, count in word_count.items():\n",
    "        if count > 4:\n",
    "            word_dict[word] = word_count[word]\n",
    "\n",
    "    useful_tokens = ['<PAD>', '<BOS>', '<EOS>', '<UNK>']\n",
    "    all_words = useful_tokens + list(word_dict.keys())\n",
    "    word_to_index = {word: index for index, word in enumerate(all_words)}\n",
    "    index_to_word = {index: word for word, index in word_to_index.items()}\n",
    "\n",
    "    return index_to_word, word_to_index, word_dict"
   ]
  },
  {
   "cell_type": "code",
   "execution_count": 4,
   "id": "c1a4543a-7cc2-432e-81eb-3ea1f781daa2",
   "metadata": {},
   "outputs": [],
   "source": [
    "def preprocess_sentence(sentence, word_dict, word_to_index):\n",
    "    words = re.sub(r'[.!,;?]', ' ', sentence).split()\n",
    "    \n",
    "    indexed_sentence = [word_to_index[word] if word in word_dict else word_to_index['<UNK>'] for word in words]\n",
    "\n",
    "    indexed_sentence.insert(0, word_to_index['<BOS>'])\n",
    "    indexed_sentence.append(word_to_index['<EOS>'])\n",
    "    \n",
    "    return indexed_sentence"
   ]
  },
  {
   "cell_type": "code",
   "execution_count": 5,
   "id": "4f7d5214-e222-4423-aa64-6b40e59f6c3e",
   "metadata": {},
   "outputs": [],
   "source": [
    "def annotate(label_file, word_dict, word_to_index):\n",
    "    annotated_captions = []\n",
    "    \n",
    "    with open(os.path.join(SRC_DIR, label_file), 'r') as f:\n",
    "        labels = json.load(f)\n",
    "        \n",
    "    for entry in labels:\n",
    "        for sentence in entry['caption']:\n",
    "            annotated_sentence = preprocess_sentence(sentence, word_dict, word_to_index)\n",
    "            annotated_captions.append((entry['id'], annotated_sentence))\n",
    "    \n",
    "    return annotated_captions"
   ]
  },
  {
   "cell_type": "code",
   "execution_count": 6,
   "id": "8227bab9-e232-4f6b-b108-89053d7e15df",
   "metadata": {},
   "outputs": [],
   "source": [
    "def load_avi_data(files_dir):\n",
    "    avi_data = {}\n",
    "    training_feats_dir = os.path.join(SRC_DIR, files_dir)\n",
    "    file_list = os.listdir(training_feats_dir)\n",
    "    \n",
    "    for i, file_name in enumerate(file_list):\n",
    "        file_path = os.path.join(training_feats_dir, file_name)\n",
    "        value = np.load(file_path)\n",
    "        key = file_name.split('.npy')[0]\n",
    "        avi_data[key] = value\n",
    "    \n",
    "    return avi_data"
   ]
  },
  {
   "cell_type": "code",
   "execution_count": 7,
   "id": "d44d2340-6619-4b53-bfb5-85d4a2d35559",
   "metadata": {},
   "outputs": [],
   "source": [
    "class TrainingDataset(Dataset):\n",
    "    def __init__(self, avi_files, labels_file, word_dict, word_to_index):\n",
    "        self.avi_data = load_avi_data(avi_files)\n",
    "        self.data_pairs = annotate(labels_file, word_dict, word_to_index)\n",
    "          \n",
    "    def __len__(self):\n",
    "        return len(self.data_pairs)\n",
    "        \n",
    "    \n",
    "    def __getitem__(self, idx):\n",
    "        assert idx < len(self), f\"Index {idx} out of range for dataset\"\n",
    "        \n",
    "        avi_file_name, sentence = self.data_pairs[idx]\n",
    "        avi_data = torch.Tensor(self.avi_data[avi_file_name])\n",
    "        noise = torch.rand_like(avi_data) * 0.0002\n",
    "        noisy_data = avi_data + noise\n",
    "        \n",
    "        return noisy_data, torch.LongTensor(sentence)"
   ]
  },
  {
   "cell_type": "code",
   "execution_count": 8,
   "id": "c88bea54-b5a6-4697-860e-aa7ce250c39d",
   "metadata": {},
   "outputs": [],
   "source": [
    "class Attention(nn.Module):\n",
    "    def __init__(self, hidden_size):\n",
    "        super(Attention, self).__init__()\n",
    "        self.hidden_size = hidden_size\n",
    "        self.dense1 = nn.Linear(2 * hidden_size, hidden_size)\n",
    "        self.dense2 = nn.Linear(hidden_size, hidden_size)\n",
    "        self.dense3 = nn.Linear(hidden_size, hidden_size)\n",
    "        self.dense4 = nn.Linear(hidden_size, hidden_size)\n",
    "        self.to_weight = nn.Linear(hidden_size, 1, bias=False)\n",
    "\n",
    "    def forward(self, hidden_state, encoder_outputs):\n",
    "        batch_size, seq_len, feat_n = encoder_outputs.size()\n",
    "        hidden_state = hidden_state.view(batch_size, 1, feat_n).repeat(1, seq_len, 1)\n",
    "        matching_inputs = torch.cat((encoder_outputs, hidden_state), 2).view(-1, 2 * self.hidden_size)\n",
    "\n",
    "        x = self.dense1(matching_inputs)\n",
    "        x = self.dense2(x)\n",
    "        x = self.dense3(x)\n",
    "        x = self.dense4(x)\n",
    "        attention_weights = self.to_weight(x)\n",
    "        attention_weights = attention_weights.view(batch_size, seq_len)\n",
    "        attention_weights = F.softmax(attention_weights, dim=1)\n",
    "        context = torch.bmm(attention_weights.unsqueeze(1), encoder_outputs).squeeze(1)\n",
    "\n",
    "        return context"
   ]
  },
  {
   "cell_type": "code",
   "execution_count": 9,
   "id": "b38aa544-840f-41b4-b7c3-2fa444b66964",
   "metadata": {},
   "outputs": [],
   "source": [
    "class EncoderLSTM(nn.Module):\n",
    "    def __init__(self, input_size=4096, hidden_size=512, num_layers=1, dropout=0.4):\n",
    "        super(EncoderLSTM, self).__init__()\n",
    "        self.embedding = nn.Linear(input_size, hidden_size)\n",
    "        self.dropout = nn.Dropout(dropout)\n",
    "        self.lstm = nn.LSTM(hidden_size, hidden_size, num_layers=num_layers, batch_first=True)\n",
    "\n",
    "    def forward(self, input):\n",
    "        batch_size, seq_len, feat_n = input.size()\n",
    "        input = input.view(-1, feat_n)\n",
    "        embedded_input = self.embedding(input)\n",
    "        embedded_input = self.dropout(embedded_input)\n",
    "        embedded_input = embedded_input.view(batch_size, seq_len, -1)\n",
    "        output, (hidden_state, cell_state) = self.lstm(embedded_input)\n",
    "        return output, hidden_state"
   ]
  },
  {
   "cell_type": "code",
   "execution_count": 10,
   "id": "830ef41f-defb-4d04-9635-05f0ffd04bf2",
   "metadata": {},
   "outputs": [],
   "source": [
    "class DecoderLSTMWithAttention(nn.Module):\n",
    "    def __init__(self, hidden_size, output_size, vocab_size, word_dim, dropout_percentage=0.35):\n",
    "        super(DecoderLSTMWithAttention, self).__init__()\n",
    "\n",
    "        self.hidden_size = hidden_size\n",
    "        self.output_size = output_size\n",
    "        self.vocab_size = vocab_size\n",
    "        self.word_dim = word_dim\n",
    "\n",
    "        self.embedding = nn.Embedding(output_size, word_dim)\n",
    "        self.dropout = nn.Dropout(dropout_percentage)\n",
    "        self.lstm = nn.LSTM(hidden_size + word_dim, hidden_size, batch_first=True)\n",
    "        self.attention = Attention(hidden_size)\n",
    "        self.to_final_output = nn.Linear(hidden_size, vocab_size)\n",
    "    \n",
    "    def forward(self, encoder_last_hidden_state, encoder_output, targets=None, mode='train', tr_steps=None):\n",
    "        batch_size = encoder_last_hidden_state.size(1)\n",
    "        \n",
    "        decoder_current_hidden_state = None if encoder_last_hidden_state is None else encoder_last_hidden_state\n",
    "        decoder_cxt = torch.zeros(decoder_current_hidden_state.size()).cuda()\n",
    "\n",
    "        decoder_current_input_word = Variable(torch.ones(batch_size, 1)).long().cuda()\n",
    "        seq_logProb = []\n",
    "        seq_predictions = []\n",
    "\n",
    "        targets = self.embedding(targets)\n",
    "        seq_len= targets.size(1)\n",
    "\n",
    "        for i in range(seq_len-1):\n",
    "            threshold = self.teacher_forcing_ratio(training_steps=tr_steps)\n",
    "            if random.uniform(0.05, 0.995) > threshold:\n",
    "                current_input_word = targets[:, i]  \n",
    "            else: \n",
    "                current_input_word = self.embedding(decoder_current_input_word).squeeze(1)\n",
    "\n",
    "            context = self.attention(decoder_current_hidden_state, encoder_output)\n",
    "            lstm_input = torch.cat([current_input_word, context], dim=1).unsqueeze(1)\n",
    "            lstm_output, t = self.lstm(lstm_input, (decoder_current_hidden_state,decoder_cxt))\n",
    "            decoder_current_hidden_state=t[0]\n",
    "            logprob = self.to_final_output(lstm_output.squeeze(1))\n",
    "            seq_logProb.append(logprob.unsqueeze(1))\n",
    "            decoder_current_input_word = logprob.unsqueeze(1).max(2)[1]\n",
    "\n",
    "        seq_logProb = torch.cat(seq_logProb, dim=1)\n",
    "        seq_predictions = seq_logProb.max(2)[1]\n",
    "        return seq_logProb, seq_predictions\n",
    "    \n",
    "    def inference(self, encoder_last_hidden_state, encoder_output):\n",
    "        batch_size = encoder_last_hidden_state.size(1)\n",
    "        decoder_current_hidden_state = None if encoder_last_hidden_state is None else encoder_last_hidden_state\n",
    "        decoder_current_input_word = Variable(torch.ones(batch_size, 1)).long().cuda()\n",
    "        decoder_c= torch.zeros(decoder_current_hidden_state.size()).cuda()\n",
    "        seq_logProb = []\n",
    "        seq_predictions = []\n",
    "        assumption_seq_len = 28\n",
    "        \n",
    "        for i in range(assumption_seq_len-1):\n",
    "            current_input_word = self.embedding(decoder_current_input_word).squeeze(1)\n",
    "            context = self.attention(decoder_current_hidden_state, encoder_output)\n",
    "            lstm_input = torch.cat([current_input_word, context], dim=1).unsqueeze(1)\n",
    "            lstm_output,  t = self.lstm(lstm_input, (decoder_current_hidden_state,decoder_c))\n",
    "            decoder_current_hidden_state=t[0]\n",
    "            logprob = self.to_final_output(lstm_output.squeeze(1))\n",
    "            seq_logProb.append(logprob.unsqueeze(1))\n",
    "            decoder_current_input_word = logprob.unsqueeze(1).max(2)[1]\n",
    "\n",
    "        seq_logProb = torch.cat(seq_logProb, dim=1)\n",
    "        seq_predictions = seq_logProb.max(2)[1]\n",
    "        return seq_logProb, seq_predictions\n",
    "\n",
    "    def teacher_forcing_ratio(self, training_steps):\n",
    "        return (expit(training_steps/20 +0.85))"
   ]
  },
  {
   "cell_type": "code",
   "execution_count": 11,
   "id": "5d61495a-69fb-497e-9a66-444125736641",
   "metadata": {},
   "outputs": [],
   "source": [
    "class Models(nn.Module):\n",
    "    def __init__(self, encoder, decoder):\n",
    "        super(Models, self).__init__()\n",
    "        self.encoder = encoder\n",
    "        self.decoder = decoder\n",
    "\n",
    "    def forward(self, avi_feat, mode, target_sentences=None, tr_steps=None):\n",
    "        encoder_outputs, encoder_last_hidden_state = self.encoder(avi_feat)\n",
    "        \n",
    "        if mode == 'train':\n",
    "            seq_logProb, seq_predictions = self.decoder(\n",
    "                encoder_last_hidden_state=encoder_last_hidden_state,\n",
    "                encoder_output=encoder_outputs,\n",
    "                targets=target_sentences,\n",
    "                mode=mode,\n",
    "                tr_steps=tr_steps\n",
    "            )\n",
    "        elif mode == 'inference':\n",
    "            seq_logProb, seq_predictions = self.decoder.inference(\n",
    "                encoder_last_hidden_state=encoder_last_hidden_state,\n",
    "                encoder_output=encoder_outputs\n",
    "            )\n",
    "            \n",
    "        return seq_logProb, seq_predictions"
   ]
  },
  {
   "cell_type": "code",
   "execution_count": 12,
   "id": "207ca2fd-197a-4f05-894b-995b26c2cadc",
   "metadata": {},
   "outputs": [],
   "source": [
    "def calculate_loss(loss_fn, x, y, lengths):\n",
    "    batch_size = len(x)\n",
    "    predict_cat = []\n",
    "    groundT_cat = []\n",
    "\n",
    "    for batch in range(batch_size):\n",
    "        predict = x[batch][:lengths[batch] - 1]\n",
    "        ground_truth = y[batch][:lengths[batch] - 1]\n",
    "        predict_cat.append(predict)\n",
    "        groundT_cat.append(ground_truth)\n",
    "\n",
    "    predict_cat = torch.cat(predict_cat, dim=0)\n",
    "    groundT_cat = torch.cat(groundT_cat, dim=0)\n",
    "\n",
    "    loss = loss_fn(predict_cat, groundT_cat)\n",
    "    avg_loss = loss / batch_size\n",
    "\n",
    "    return avg_loss"
   ]
  },
  {
   "cell_type": "code",
   "execution_count": 13,
   "id": "0775d69e-76e7-4799-be4b-5be78f197cf2",
   "metadata": {},
   "outputs": [],
   "source": [
    "def train(model, epoch, loss_fn, optimizer, train_loader):\n",
    "    model.train()\n",
    "    model = model.cuda()\n",
    "    total_loss = 0.0\n",
    "    total_batches = len(train_loader)\n",
    "    \n",
    "    # Use tqdm for the progress bar\n",
    "    progress_bar = tqdm(enumerate(train_loader), total=total_batches, desc=f'Epoch {epoch}', leave=False)\n",
    "\n",
    "    for batch_idx, batch in progress_bar:\n",
    "        avi_feats, ground_truths, lengths = batch[0].cuda(), batch[1].cuda(), batch[2]\n",
    "\n",
    "        optimizer.zero_grad()\n",
    "        seq_logProb, seq_predictions = model(avi_feats, target_sentences=ground_truths, mode='train', tr_steps=epoch)\n",
    "        ground_truths = ground_truths[:, 1:]\n",
    "\n",
    "        loss = calculate_loss(loss_fn, seq_logProb, ground_truths, lengths)\n",
    "        total_loss += loss.item()\n",
    "\n",
    "        loss.backward()\n",
    "        optimizer.step()\n",
    "\n",
    "        # Update tqdm progress bar with the loss information\n",
    "        progress_bar.set_postfix({'Batch': batch_idx, 'Loss': loss.item()})\n",
    "\n",
    "    average_loss = total_loss / total_batches\n",
    "    print(f'Epoch {epoch} Average Loss: {average_loss:.4f}')\n",
    "    \n",
    "    return average_loss"
   ]
  },
  {
   "cell_type": "code",
   "execution_count": 14,
   "id": "7f0d8578-5e2c-4edd-bf6b-e6444a9988fb",
   "metadata": {},
   "outputs": [],
   "source": [
    "def minibatch(data):\n",
    "    data.sort(key=lambda x: len(x[1]), reverse=True)\n",
    "    avi_data, captions = zip(*data) \n",
    "    avi_data = torch.stack(avi_data, 0)\n",
    "    lengths = [len(cap) for cap in captions]\n",
    "    targets = torch.zeros(len(captions), max(lengths)).long()\n",
    "    for i, cap in enumerate(captions):\n",
    "        end = lengths[i]\n",
    "        targets[i, :end] = cap[:end]\n",
    "    return avi_data, targets, lengths"
   ]
  },
  {
   "cell_type": "code",
   "execution_count": 15,
   "id": "412cbcc3-dfcd-441e-9d6d-73d04fd5036a",
   "metadata": {},
   "outputs": [],
   "source": [
    "train_avi_files = 'training_data/feat'\n",
    "train_labels_file = 'training_label.json'\n",
    "    \n",
    "def main():\n",
    "    index_to_word, word_to_index, word_dict = data_preprocess()\n",
    "    with open('index_to_word.pickle', 'wb') as handle:\n",
    "        pickle.dump(index_to_word, handle, protocol = pickle.HIGHEST_PROTOCOL)\n",
    "    train_dataset = TrainingDataset(train_avi_files, train_labels_file, word_dict, word_to_index)\n",
    "    train_dataloader = DataLoader(dataset = train_dataset, batch_size=128, shuffle=True, num_workers=8, collate_fn=minibatch)\n",
    "    \n",
    "    epochs = 100\n",
    "\n",
    "    encoder = EncoderLSTM()\n",
    "    decoder = DecoderLSTMWithAttention(512, len(index_to_word)+4, len(index_to_word)+4, 1024, 0.35)\n",
    "    model = Models(encoder=encoder, decoder=decoder)\n",
    "    model = model.cuda()\n",
    "    loss_fn = nn.CrossEntropyLoss()\n",
    "    parameters = model.parameters()\n",
    "    optimizer = optim.Adam(parameters, lr=0.0001)\n",
    "    loss_arr = []\n",
    "    for epoch in range(epochs):\n",
    "        loss = train(model, epoch+1, loss_fn, optimizer, train_dataloader) \n",
    "        loss_arr.append(loss)\n",
    "    \n",
    "    with open('loss_values.txt', 'w') as f:\n",
    "        for item in loss_arr:\n",
    "            f.write(\"%s\\n\" % item)\n",
    "            \n",
    "    torch.save(model, \"{}.h5\".format('S2S_Model'))\n",
    "    print(\"Training finished\")"
   ]
  },
  {
   "cell_type": "code",
   "execution_count": 16,
   "id": "acfc95d1-ebc1-4466-92e4-d4b4123d3f9f",
   "metadata": {},
   "outputs": [
    {
     "name": "stderr",
     "output_type": "stream",
     "text": [
      "                                                                                  "
     ]
    },
    {
     "name": "stdout",
     "output_type": "stream",
     "text": [
      "Epoch 1 Average Loss: 0.0384\n"
     ]
    },
    {
     "name": "stderr",
     "output_type": "stream",
     "text": [
      "                                                                                  "
     ]
    },
    {
     "name": "stdout",
     "output_type": "stream",
     "text": [
      "Epoch 2 Average Loss: 0.0326\n"
     ]
    },
    {
     "name": "stderr",
     "output_type": "stream",
     "text": [
      "                                                                                  "
     ]
    },
    {
     "name": "stdout",
     "output_type": "stream",
     "text": [
      "Epoch 3 Average Loss: 0.0320\n"
     ]
    },
    {
     "name": "stderr",
     "output_type": "stream",
     "text": [
      "                                                                                  "
     ]
    },
    {
     "name": "stdout",
     "output_type": "stream",
     "text": [
      "Epoch 4 Average Loss: 0.0316\n"
     ]
    },
    {
     "name": "stderr",
     "output_type": "stream",
     "text": [
      "                                                                                  "
     ]
    },
    {
     "name": "stdout",
     "output_type": "stream",
     "text": [
      "Epoch 5 Average Loss: 0.0308\n"
     ]
    },
    {
     "name": "stderr",
     "output_type": "stream",
     "text": [
      "                                                                                  "
     ]
    },
    {
     "name": "stdout",
     "output_type": "stream",
     "text": [
      "Epoch 6 Average Loss: 0.0300\n"
     ]
    },
    {
     "name": "stderr",
     "output_type": "stream",
     "text": [
      "                                                                                  "
     ]
    },
    {
     "name": "stdout",
     "output_type": "stream",
     "text": [
      "Epoch 7 Average Loss: 0.0292\n"
     ]
    },
    {
     "name": "stderr",
     "output_type": "stream",
     "text": [
      "                                                                                  "
     ]
    },
    {
     "name": "stdout",
     "output_type": "stream",
     "text": [
      "Epoch 8 Average Loss: 0.0286\n"
     ]
    },
    {
     "name": "stderr",
     "output_type": "stream",
     "text": [
      "                                                                                  "
     ]
    },
    {
     "name": "stdout",
     "output_type": "stream",
     "text": [
      "Epoch 9 Average Loss: 0.0278\n"
     ]
    },
    {
     "name": "stderr",
     "output_type": "stream",
     "text": [
      "                                                                                   "
     ]
    },
    {
     "name": "stdout",
     "output_type": "stream",
     "text": [
      "Epoch 10 Average Loss: 0.0272\n"
     ]
    },
    {
     "name": "stderr",
     "output_type": "stream",
     "text": [
      "                                                                                   "
     ]
    },
    {
     "name": "stdout",
     "output_type": "stream",
     "text": [
      "Epoch 11 Average Loss: 0.0265\n"
     ]
    },
    {
     "name": "stderr",
     "output_type": "stream",
     "text": [
      "                                                                                   "
     ]
    },
    {
     "name": "stdout",
     "output_type": "stream",
     "text": [
      "Epoch 12 Average Loss: 0.0259\n"
     ]
    },
    {
     "name": "stderr",
     "output_type": "stream",
     "text": [
      "                                                                                   "
     ]
    },
    {
     "name": "stdout",
     "output_type": "stream",
     "text": [
      "Epoch 13 Average Loss: 0.0254\n"
     ]
    },
    {
     "name": "stderr",
     "output_type": "stream",
     "text": [
      "                                                                                   \r"
     ]
    },
    {
     "name": "stdout",
     "output_type": "stream",
     "text": [
      "Epoch 14 Average Loss: 0.0249\n"
     ]
    },
    {
     "name": "stderr",
     "output_type": "stream",
     "text": [
      "                                                                                   "
     ]
    },
    {
     "name": "stdout",
     "output_type": "stream",
     "text": [
      "Epoch 15 Average Loss: 0.0243\n"
     ]
    },
    {
     "name": "stderr",
     "output_type": "stream",
     "text": [
      "                                                                                   "
     ]
    },
    {
     "name": "stdout",
     "output_type": "stream",
     "text": [
      "Epoch 16 Average Loss: 0.0240\n"
     ]
    },
    {
     "name": "stderr",
     "output_type": "stream",
     "text": [
      "                                                                                   "
     ]
    },
    {
     "name": "stdout",
     "output_type": "stream",
     "text": [
      "Epoch 17 Average Loss: 0.0237\n"
     ]
    },
    {
     "name": "stderr",
     "output_type": "stream",
     "text": [
      "                                                                                   "
     ]
    },
    {
     "name": "stdout",
     "output_type": "stream",
     "text": [
      "Epoch 18 Average Loss: 0.0232\n"
     ]
    },
    {
     "name": "stderr",
     "output_type": "stream",
     "text": [
      "                                                                                   "
     ]
    },
    {
     "name": "stdout",
     "output_type": "stream",
     "text": [
      "Epoch 19 Average Loss: 0.0229\n"
     ]
    },
    {
     "name": "stderr",
     "output_type": "stream",
     "text": [
      "                                                                                   "
     ]
    },
    {
     "name": "stdout",
     "output_type": "stream",
     "text": [
      "Epoch 20 Average Loss: 0.0225\n"
     ]
    },
    {
     "name": "stderr",
     "output_type": "stream",
     "text": [
      "                                                                                   "
     ]
    },
    {
     "name": "stdout",
     "output_type": "stream",
     "text": [
      "Epoch 21 Average Loss: 0.0221\n"
     ]
    },
    {
     "name": "stderr",
     "output_type": "stream",
     "text": [
      "                                                                                   "
     ]
    },
    {
     "name": "stdout",
     "output_type": "stream",
     "text": [
      "Epoch 22 Average Loss: 0.0219\n"
     ]
    },
    {
     "name": "stderr",
     "output_type": "stream",
     "text": [
      "                                                                                   "
     ]
    },
    {
     "name": "stdout",
     "output_type": "stream",
     "text": [
      "Epoch 23 Average Loss: 0.0216\n"
     ]
    },
    {
     "name": "stderr",
     "output_type": "stream",
     "text": [
      "                                                                                   "
     ]
    },
    {
     "name": "stdout",
     "output_type": "stream",
     "text": [
      "Epoch 24 Average Loss: 0.0214\n"
     ]
    },
    {
     "name": "stderr",
     "output_type": "stream",
     "text": [
      "                                                                                   "
     ]
    },
    {
     "name": "stdout",
     "output_type": "stream",
     "text": [
      "Epoch 25 Average Loss: 0.0210\n"
     ]
    },
    {
     "name": "stderr",
     "output_type": "stream",
     "text": [
      "                                                                                   "
     ]
    },
    {
     "name": "stdout",
     "output_type": "stream",
     "text": [
      "Epoch 26 Average Loss: 0.0208\n"
     ]
    },
    {
     "name": "stderr",
     "output_type": "stream",
     "text": [
      "                                                                                   "
     ]
    },
    {
     "name": "stdout",
     "output_type": "stream",
     "text": [
      "Epoch 27 Average Loss: 0.0207\n"
     ]
    },
    {
     "name": "stderr",
     "output_type": "stream",
     "text": [
      "                                                                                   \r"
     ]
    },
    {
     "name": "stdout",
     "output_type": "stream",
     "text": [
      "Epoch 28 Average Loss: 0.0205\n"
     ]
    },
    {
     "name": "stderr",
     "output_type": "stream",
     "text": [
      "                                                                                   "
     ]
    },
    {
     "name": "stdout",
     "output_type": "stream",
     "text": [
      "Epoch 29 Average Loss: 0.0202\n"
     ]
    },
    {
     "name": "stderr",
     "output_type": "stream",
     "text": [
      "                                                                                   "
     ]
    },
    {
     "name": "stdout",
     "output_type": "stream",
     "text": [
      "Epoch 30 Average Loss: 0.0200\n"
     ]
    },
    {
     "name": "stderr",
     "output_type": "stream",
     "text": [
      "                                                                                   "
     ]
    },
    {
     "name": "stdout",
     "output_type": "stream",
     "text": [
      "Epoch 31 Average Loss: 0.0199\n"
     ]
    },
    {
     "name": "stderr",
     "output_type": "stream",
     "text": [
      "                                                                                   "
     ]
    },
    {
     "name": "stdout",
     "output_type": "stream",
     "text": [
      "Epoch 32 Average Loss: 0.0198\n"
     ]
    },
    {
     "name": "stderr",
     "output_type": "stream",
     "text": [
      "                                                                                   "
     ]
    },
    {
     "name": "stdout",
     "output_type": "stream",
     "text": [
      "Epoch 33 Average Loss: 0.0196\n"
     ]
    },
    {
     "name": "stderr",
     "output_type": "stream",
     "text": [
      "                                                                                   "
     ]
    },
    {
     "name": "stdout",
     "output_type": "stream",
     "text": [
      "Epoch 34 Average Loss: 0.0194\n"
     ]
    },
    {
     "name": "stderr",
     "output_type": "stream",
     "text": [
      "                                                                                   \r"
     ]
    },
    {
     "name": "stdout",
     "output_type": "stream",
     "text": [
      "Epoch 35 Average Loss: 0.0193\n"
     ]
    },
    {
     "name": "stderr",
     "output_type": "stream",
     "text": [
      "                                                                                   \r"
     ]
    },
    {
     "name": "stdout",
     "output_type": "stream",
     "text": [
      "Epoch 36 Average Loss: 0.0192\n"
     ]
    },
    {
     "name": "stderr",
     "output_type": "stream",
     "text": [
      "                                                                                   "
     ]
    },
    {
     "name": "stdout",
     "output_type": "stream",
     "text": [
      "Epoch 37 Average Loss: 0.0190\n"
     ]
    },
    {
     "name": "stderr",
     "output_type": "stream",
     "text": [
      "                                                                                   "
     ]
    },
    {
     "name": "stdout",
     "output_type": "stream",
     "text": [
      "Epoch 38 Average Loss: 0.0188\n"
     ]
    },
    {
     "name": "stderr",
     "output_type": "stream",
     "text": [
      "                                                                                   "
     ]
    },
    {
     "name": "stdout",
     "output_type": "stream",
     "text": [
      "Epoch 39 Average Loss: 0.0189\n"
     ]
    },
    {
     "name": "stderr",
     "output_type": "stream",
     "text": [
      "                                                                                   "
     ]
    },
    {
     "name": "stdout",
     "output_type": "stream",
     "text": [
      "Epoch 40 Average Loss: 0.0187\n"
     ]
    },
    {
     "name": "stderr",
     "output_type": "stream",
     "text": [
      "                                                                                   "
     ]
    },
    {
     "name": "stdout",
     "output_type": "stream",
     "text": [
      "Epoch 41 Average Loss: 0.0187\n"
     ]
    },
    {
     "name": "stderr",
     "output_type": "stream",
     "text": [
      "                                                                                   "
     ]
    },
    {
     "name": "stdout",
     "output_type": "stream",
     "text": [
      "Epoch 42 Average Loss: 0.0186\n"
     ]
    },
    {
     "name": "stderr",
     "output_type": "stream",
     "text": [
      "                                                                                   "
     ]
    },
    {
     "name": "stdout",
     "output_type": "stream",
     "text": [
      "Epoch 43 Average Loss: 0.0184\n"
     ]
    },
    {
     "name": "stderr",
     "output_type": "stream",
     "text": [
      "                                                                                   "
     ]
    },
    {
     "name": "stdout",
     "output_type": "stream",
     "text": [
      "Epoch 44 Average Loss: 0.0184\n"
     ]
    },
    {
     "name": "stderr",
     "output_type": "stream",
     "text": [
      "                                                                                   "
     ]
    },
    {
     "name": "stdout",
     "output_type": "stream",
     "text": [
      "Epoch 45 Average Loss: 0.0182\n"
     ]
    },
    {
     "name": "stderr",
     "output_type": "stream",
     "text": [
      "                                                                                   "
     ]
    },
    {
     "name": "stdout",
     "output_type": "stream",
     "text": [
      "Epoch 46 Average Loss: 0.0182\n"
     ]
    },
    {
     "name": "stderr",
     "output_type": "stream",
     "text": [
      "                                                                                   "
     ]
    },
    {
     "name": "stdout",
     "output_type": "stream",
     "text": [
      "Epoch 47 Average Loss: 0.0181\n"
     ]
    },
    {
     "name": "stderr",
     "output_type": "stream",
     "text": [
      "                                                                                   "
     ]
    },
    {
     "name": "stdout",
     "output_type": "stream",
     "text": [
      "Epoch 48 Average Loss: 0.0181\n"
     ]
    },
    {
     "name": "stderr",
     "output_type": "stream",
     "text": [
      "                                                                                   "
     ]
    },
    {
     "name": "stdout",
     "output_type": "stream",
     "text": [
      "Epoch 49 Average Loss: 0.0180\n"
     ]
    },
    {
     "name": "stderr",
     "output_type": "stream",
     "text": [
      "                                                                                   "
     ]
    },
    {
     "name": "stdout",
     "output_type": "stream",
     "text": [
      "Epoch 50 Average Loss: 0.0179\n"
     ]
    },
    {
     "name": "stderr",
     "output_type": "stream",
     "text": [
      "                                                                                   "
     ]
    },
    {
     "name": "stdout",
     "output_type": "stream",
     "text": [
      "Epoch 51 Average Loss: 0.0178\n"
     ]
    },
    {
     "name": "stderr",
     "output_type": "stream",
     "text": [
      "                                                                                   "
     ]
    },
    {
     "name": "stdout",
     "output_type": "stream",
     "text": [
      "Epoch 52 Average Loss: 0.0177\n"
     ]
    },
    {
     "name": "stderr",
     "output_type": "stream",
     "text": [
      "                                                                                   "
     ]
    },
    {
     "name": "stdout",
     "output_type": "stream",
     "text": [
      "Epoch 53 Average Loss: 0.0177\n"
     ]
    },
    {
     "name": "stderr",
     "output_type": "stream",
     "text": [
      "                                                                                   \r"
     ]
    },
    {
     "name": "stdout",
     "output_type": "stream",
     "text": [
      "Epoch 54 Average Loss: 0.0176\n"
     ]
    },
    {
     "name": "stderr",
     "output_type": "stream",
     "text": [
      "                                                                                   "
     ]
    },
    {
     "name": "stdout",
     "output_type": "stream",
     "text": [
      "Epoch 55 Average Loss: 0.0175\n"
     ]
    },
    {
     "name": "stderr",
     "output_type": "stream",
     "text": [
      "                                                                                   "
     ]
    },
    {
     "name": "stdout",
     "output_type": "stream",
     "text": [
      "Epoch 56 Average Loss: 0.0175\n"
     ]
    },
    {
     "name": "stderr",
     "output_type": "stream",
     "text": [
      "                                                                                   "
     ]
    },
    {
     "name": "stdout",
     "output_type": "stream",
     "text": [
      "Epoch 57 Average Loss: 0.0175\n"
     ]
    },
    {
     "name": "stderr",
     "output_type": "stream",
     "text": [
      "                                                                                   "
     ]
    },
    {
     "name": "stdout",
     "output_type": "stream",
     "text": [
      "Epoch 58 Average Loss: 0.0174\n"
     ]
    },
    {
     "name": "stderr",
     "output_type": "stream",
     "text": [
      "                                                                                   "
     ]
    },
    {
     "name": "stdout",
     "output_type": "stream",
     "text": [
      "Epoch 59 Average Loss: 0.0174\n"
     ]
    },
    {
     "name": "stderr",
     "output_type": "stream",
     "text": [
      "                                                                                   \r"
     ]
    },
    {
     "name": "stdout",
     "output_type": "stream",
     "text": [
      "Epoch 60 Average Loss: 0.0173\n"
     ]
    },
    {
     "name": "stderr",
     "output_type": "stream",
     "text": [
      "                                                                                   "
     ]
    },
    {
     "name": "stdout",
     "output_type": "stream",
     "text": [
      "Epoch 61 Average Loss: 0.0173\n"
     ]
    },
    {
     "name": "stderr",
     "output_type": "stream",
     "text": [
      "                                                                                   "
     ]
    },
    {
     "name": "stdout",
     "output_type": "stream",
     "text": [
      "Epoch 62 Average Loss: 0.0171\n"
     ]
    },
    {
     "name": "stderr",
     "output_type": "stream",
     "text": [
      "                                                                                   "
     ]
    },
    {
     "name": "stdout",
     "output_type": "stream",
     "text": [
      "Epoch 63 Average Loss: 0.0171\n"
     ]
    },
    {
     "name": "stderr",
     "output_type": "stream",
     "text": [
      "                                                                                   "
     ]
    },
    {
     "name": "stdout",
     "output_type": "stream",
     "text": [
      "Epoch 64 Average Loss: 0.0171\n"
     ]
    },
    {
     "name": "stderr",
     "output_type": "stream",
     "text": [
      "                                                                                   "
     ]
    },
    {
     "name": "stdout",
     "output_type": "stream",
     "text": [
      "Epoch 65 Average Loss: 0.0170\n"
     ]
    },
    {
     "name": "stderr",
     "output_type": "stream",
     "text": [
      "                                                                                   "
     ]
    },
    {
     "name": "stdout",
     "output_type": "stream",
     "text": [
      "Epoch 66 Average Loss: 0.0170\n"
     ]
    },
    {
     "name": "stderr",
     "output_type": "stream",
     "text": [
      "                                                                                   "
     ]
    },
    {
     "name": "stdout",
     "output_type": "stream",
     "text": [
      "Epoch 67 Average Loss: 0.0169\n"
     ]
    },
    {
     "name": "stderr",
     "output_type": "stream",
     "text": [
      "                                                                                   \r"
     ]
    },
    {
     "name": "stdout",
     "output_type": "stream",
     "text": [
      "Epoch 68 Average Loss: 0.0168\n"
     ]
    },
    {
     "name": "stderr",
     "output_type": "stream",
     "text": [
      "                                                                                   "
     ]
    },
    {
     "name": "stdout",
     "output_type": "stream",
     "text": [
      "Epoch 69 Average Loss: 0.0169\n"
     ]
    },
    {
     "name": "stderr",
     "output_type": "stream",
     "text": [
      "                                                                                   "
     ]
    },
    {
     "name": "stdout",
     "output_type": "stream",
     "text": [
      "Epoch 70 Average Loss: 0.0168\n"
     ]
    },
    {
     "name": "stderr",
     "output_type": "stream",
     "text": [
      "                                                                                   \r"
     ]
    },
    {
     "name": "stdout",
     "output_type": "stream",
     "text": [
      "Epoch 71 Average Loss: 0.0167\n"
     ]
    },
    {
     "name": "stderr",
     "output_type": "stream",
     "text": [
      "                                                                                   \r"
     ]
    },
    {
     "name": "stdout",
     "output_type": "stream",
     "text": [
      "Epoch 72 Average Loss: 0.0167\n"
     ]
    },
    {
     "name": "stderr",
     "output_type": "stream",
     "text": [
      "                                                                                   "
     ]
    },
    {
     "name": "stdout",
     "output_type": "stream",
     "text": [
      "Epoch 73 Average Loss: 0.0167\n"
     ]
    },
    {
     "name": "stderr",
     "output_type": "stream",
     "text": [
      "                                                                                   "
     ]
    },
    {
     "name": "stdout",
     "output_type": "stream",
     "text": [
      "Epoch 74 Average Loss: 0.0166\n"
     ]
    },
    {
     "name": "stderr",
     "output_type": "stream",
     "text": [
      "                                                                                   "
     ]
    },
    {
     "name": "stdout",
     "output_type": "stream",
     "text": [
      "Epoch 75 Average Loss: 0.0166\n"
     ]
    },
    {
     "name": "stderr",
     "output_type": "stream",
     "text": [
      "                                                                                   "
     ]
    },
    {
     "name": "stdout",
     "output_type": "stream",
     "text": [
      "Epoch 76 Average Loss: 0.0165\n"
     ]
    },
    {
     "name": "stderr",
     "output_type": "stream",
     "text": [
      "                                                                                   "
     ]
    },
    {
     "name": "stdout",
     "output_type": "stream",
     "text": [
      "Epoch 77 Average Loss: 0.0164\n"
     ]
    },
    {
     "name": "stderr",
     "output_type": "stream",
     "text": [
      "                                                                                   "
     ]
    },
    {
     "name": "stdout",
     "output_type": "stream",
     "text": [
      "Epoch 78 Average Loss: 0.0164\n"
     ]
    },
    {
     "name": "stderr",
     "output_type": "stream",
     "text": [
      "                                                                                   \r"
     ]
    },
    {
     "name": "stdout",
     "output_type": "stream",
     "text": [
      "Epoch 79 Average Loss: 0.0164\n"
     ]
    },
    {
     "name": "stderr",
     "output_type": "stream",
     "text": [
      "                                                                                   \r"
     ]
    },
    {
     "name": "stdout",
     "output_type": "stream",
     "text": [
      "Epoch 80 Average Loss: 0.0163\n"
     ]
    },
    {
     "name": "stderr",
     "output_type": "stream",
     "text": [
      "                                                                                   "
     ]
    },
    {
     "name": "stdout",
     "output_type": "stream",
     "text": [
      "Epoch 81 Average Loss: 0.0163\n"
     ]
    },
    {
     "name": "stderr",
     "output_type": "stream",
     "text": [
      "                                                                                   "
     ]
    },
    {
     "name": "stdout",
     "output_type": "stream",
     "text": [
      "Epoch 82 Average Loss: 0.0163\n"
     ]
    },
    {
     "name": "stderr",
     "output_type": "stream",
     "text": [
      "                                                                                   "
     ]
    },
    {
     "name": "stdout",
     "output_type": "stream",
     "text": [
      "Epoch 83 Average Loss: 0.0162\n"
     ]
    },
    {
     "name": "stderr",
     "output_type": "stream",
     "text": [
      "                                                                                   "
     ]
    },
    {
     "name": "stdout",
     "output_type": "stream",
     "text": [
      "Epoch 84 Average Loss: 0.0162\n"
     ]
    },
    {
     "name": "stderr",
     "output_type": "stream",
     "text": [
      "                                                                                   "
     ]
    },
    {
     "name": "stdout",
     "output_type": "stream",
     "text": [
      "Epoch 85 Average Loss: 0.0161\n"
     ]
    },
    {
     "name": "stderr",
     "output_type": "stream",
     "text": [
      "                                                                                   "
     ]
    },
    {
     "name": "stdout",
     "output_type": "stream",
     "text": [
      "Epoch 86 Average Loss: 0.0162\n"
     ]
    },
    {
     "name": "stderr",
     "output_type": "stream",
     "text": [
      "                                                                                   "
     ]
    },
    {
     "name": "stdout",
     "output_type": "stream",
     "text": [
      "Epoch 87 Average Loss: 0.0161\n"
     ]
    },
    {
     "name": "stderr",
     "output_type": "stream",
     "text": [
      "                                                                                   "
     ]
    },
    {
     "name": "stdout",
     "output_type": "stream",
     "text": [
      "Epoch 88 Average Loss: 0.0161\n"
     ]
    },
    {
     "name": "stderr",
     "output_type": "stream",
     "text": [
      "                                                                                   "
     ]
    },
    {
     "name": "stdout",
     "output_type": "stream",
     "text": [
      "Epoch 89 Average Loss: 0.0160\n"
     ]
    },
    {
     "name": "stderr",
     "output_type": "stream",
     "text": [
      "                                                                                   "
     ]
    },
    {
     "name": "stdout",
     "output_type": "stream",
     "text": [
      "Epoch 90 Average Loss: 0.0160\n"
     ]
    },
    {
     "name": "stderr",
     "output_type": "stream",
     "text": [
      "                                                                                   "
     ]
    },
    {
     "name": "stdout",
     "output_type": "stream",
     "text": [
      "Epoch 91 Average Loss: 0.0160\n"
     ]
    },
    {
     "name": "stderr",
     "output_type": "stream",
     "text": [
      "                                                                                   "
     ]
    },
    {
     "name": "stdout",
     "output_type": "stream",
     "text": [
      "Epoch 92 Average Loss: 0.0159\n"
     ]
    },
    {
     "name": "stderr",
     "output_type": "stream",
     "text": [
      "                                                                                   "
     ]
    },
    {
     "name": "stdout",
     "output_type": "stream",
     "text": [
      "Epoch 93 Average Loss: 0.0159\n"
     ]
    },
    {
     "name": "stderr",
     "output_type": "stream",
     "text": [
      "                                                                                   "
     ]
    },
    {
     "name": "stdout",
     "output_type": "stream",
     "text": [
      "Epoch 94 Average Loss: 0.0158\n"
     ]
    },
    {
     "name": "stderr",
     "output_type": "stream",
     "text": [
      "                                                                                   "
     ]
    },
    {
     "name": "stdout",
     "output_type": "stream",
     "text": [
      "Epoch 95 Average Loss: 0.0158\n"
     ]
    },
    {
     "name": "stderr",
     "output_type": "stream",
     "text": [
      "                                                                                   "
     ]
    },
    {
     "name": "stdout",
     "output_type": "stream",
     "text": [
      "Epoch 96 Average Loss: 0.0158\n"
     ]
    },
    {
     "name": "stderr",
     "output_type": "stream",
     "text": [
      "                                                                                   "
     ]
    },
    {
     "name": "stdout",
     "output_type": "stream",
     "text": [
      "Epoch 97 Average Loss: 0.0158\n"
     ]
    },
    {
     "name": "stderr",
     "output_type": "stream",
     "text": [
      "                                                                                   "
     ]
    },
    {
     "name": "stdout",
     "output_type": "stream",
     "text": [
      "Epoch 98 Average Loss: 0.0157\n"
     ]
    },
    {
     "name": "stderr",
     "output_type": "stream",
     "text": [
      "                                                                                   "
     ]
    },
    {
     "name": "stdout",
     "output_type": "stream",
     "text": [
      "Epoch 99 Average Loss: 0.0157\n"
     ]
    },
    {
     "name": "stderr",
     "output_type": "stream",
     "text": [
      "                                                                                    \r"
     ]
    },
    {
     "name": "stdout",
     "output_type": "stream",
     "text": [
      "Epoch 100 Average Loss: 0.0157\n",
      "Training finished\n"
     ]
    }
   ],
   "source": [
    "main()"
   ]
  },
  {
   "cell_type": "code",
   "execution_count": 17,
   "id": "9149c860-5898-43fb-ab6e-fe046a1b5e62",
   "metadata": {},
   "outputs": [
    {
     "data": {
      "image/png": "[encoded data removed]",
      "text/plain": [
       "<Figure size 1000x600 with 1 Axes>"
      ]
     },
     "metadata": {},
     "output_type": "display_data"
    }
   ],
   "source": [
    "with open('loss_values.txt', 'r') as file:\n",
    "    lines = file.readlines()\n",
    "    loss_values = [float(line.strip()) for line in lines]\n",
    "\n",
    "plt.figure(figsize=(10, 6))\n",
    "plt.plot(loss_values, marker='o', color='b', label='Loss')\n",
    "plt.title('Training Loss')\n",
    "plt.xlabel('Epoch')\n",
    "plt.ylabel('Loss')\n",
    "plt.grid(True)\n",
    "plt.legend()\n",
    "plt.show()"
   ]
  },
  {
   "cell_type": "code",
   "execution_count": null,
   "id": "d3c61ec1-88e7-42d4-8143-b1484fe44b51",
   "metadata": {},
   "outputs": [],
   "source": []
  }
 ],
 "metadata": {
  "kernelspec": {
   "display_name": "Python 3 (ipykernel)",
   "language": "python",
   "name": "python3"
  },
  "language_info": {
   "codemirror_mode": {
    "name": "ipython",
    "version": 3
   },
   "file_extension": ".py",
   "mimetype": "text/x-python",
   "name": "python",
   "nbconvert_exporter": "python",
   "pygments_lexer": "ipython3",
   "version": "3.11.5"
  }
 },
 "nbformat": 4,
 "nbformat_minor": 5
}
