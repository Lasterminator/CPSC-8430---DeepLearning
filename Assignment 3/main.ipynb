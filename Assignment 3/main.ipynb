{
 "cells": [
  {
   "cell_type": "code",
   "execution_count": 1,
   "id": "645854b1-383a-4b78-af43-02bc3f5f4405",
   "metadata": {
    "tags": []
   },
   "outputs": [],
   "source": [
    "import requests\n",
    "import json\n",
    "import torch\n",
    "import torch.nn as nn\n",
    "import os\n",
    "from tqdm import tqdm\n",
    "import transformers\n",
    "from evaluate import load\n",
    "from transformers import BertTokenizerFast, AdamW, BertForQuestionAnswering, AutoTokenizer, AutoModelForQuestionAnswering, get_linear_schedule_with_warmup\n",
    "from torch.utils.data import Dataset, DataLoader\n",
    "from torch.optim.lr_scheduler import ExponentialLR\n",
    "import matplotlib.pyplot as plt\n",
    "from collections import Counter\n",
    "import numpy as np\n",
    "from torch.cuda.amp import autocast, GradScaler\n",
    "from sklearn.metrics import f1_score"
   ]
  },
  {
   "cell_type": "code",
   "execution_count": 2,
   "id": "522940c9-af12-4919-9f47-afcb8eea3c5c",
   "metadata": {},
   "outputs": [],
   "source": [
    "# Check if GPU is available\n",
    "device = torch.device('cuda') if torch.cuda.is_available() else torch.device('cpu')"
   ]
  },
  {
   "cell_type": "code",
   "execution_count": 3,
   "id": "259ed0bf-332b-4f22-90f7-b8c5c3d1e74c",
   "metadata": {},
   "outputs": [],
   "source": [
    "# File paths\n",
    "BASE_PATH = \"/home/tpittal/DeepLearning/Assignment3/Spoken-SQuAD-master\"  # Set your base path here\n",
    "spoken_train = \"spoken_train-v1.1.json\"\n",
    "spoken_test = \"spoken_test-v1.1.json\"\n",
    "spoken_test_WER44 = \"spoken_test-v1.1_WER44.json\"\n",
    "spoken_test_WER54 = \"spoken_test-v1.1_WER54.json\""
   ]
  },
  {
   "cell_type": "code",
   "execution_count": 4,
   "id": "5707b0f0-55ee-4eab-a454-d5e192d47fc7",
   "metadata": {
    "tags": []
   },
   "outputs": [],
   "source": [
    "# Read data function\n",
    "def read_json(path):\n",
    "    contexts = []\n",
    "    questions = []\n",
    "    answers = []\n",
    "    \n",
    "    with open(path, 'r') as file:\n",
    "        raw_data = json.load(file)\n",
    "\n",
    "    for group in raw_data['data']:\n",
    "        for paragraph in group['paragraphs']:\n",
    "            context = paragraph['context']\n",
    "            for qa in paragraph['qas']:\n",
    "                question = qa['question']\n",
    "                for answer in qa['answers']:\n",
    "                    contexts.append(context.lower())\n",
    "                    questions.append(question.lower())\n",
    "                    answers.append(answer)\n",
    "\n",
    "    return contexts, questions, answers\n",
    "\n",
    "# SpokenSQuADDataset class\n",
    "class SpokenSQuADDataset(Dataset):\n",
    "    def __init__(self, contexts, questions, answers, tokenizer, max_length=512, doc_stride=128):\n",
    "        self.contexts = contexts\n",
    "        self.questions = questions\n",
    "        self.answers = answers\n",
    "        self.tokenizer = tokenizer\n",
    "        self.max_length = max_length\n",
    "        self.doc_stride = doc_stride\n",
    "\n",
    "    def __len__(self):\n",
    "        return len(self.questions)\n",
    "\n",
    "    def __getitem__(self, idx):\n",
    "        question = self.questions[idx]\n",
    "        context = self.contexts[idx]\n",
    "        answer = self.answers[idx]\n",
    "        \n",
    "        start_char = answer['answer_start']\n",
    "        end_char = start_char + len(answer['text'])\n",
    "        \n",
    "        encoding = self.tokenizer(\n",
    "            question,\n",
    "            context,\n",
    "            max_length=self.max_length,\n",
    "            stride=self.doc_stride,\n",
    "            padding=\"max_length\",\n",
    "            truncation=True,\n",
    "            return_offsets_mapping=True\n",
    "        )\n",
    "        \n",
    "        start_token = end_token = None\n",
    "        for i, (offset_start, offset_end) in enumerate(encoding['offset_mapping']):\n",
    "            if offset_start <= start_char < offset_end:\n",
    "                start_token = i\n",
    "            if offset_start < end_char <= offset_end:\n",
    "                end_token = i\n",
    "                break\n",
    "\n",
    "        if start_token is None:\n",
    "            start_token = 0\n",
    "        if end_token is None:\n",
    "            end_token = 0\n",
    "\n",
    "        encoding['start_positions'] = start_token\n",
    "        encoding['end_positions'] = end_token\n",
    "\n",
    "        return {k: torch.tensor(v).to(device) for k, v in encoding.items()}\n",
    "    \n",
    "# F1 score evaluation function\n",
    "def compute_f1(predictions, references):\n",
    "    f1_scores = []\n",
    "    for pred, ref in zip(predictions, references):\n",
    "        common = Counter(pred) & Counter(ref)\n",
    "        num_same = sum(common.values())\n",
    "        if num_same == 0:\n",
    "            f1_scores.append(0)\n",
    "        else:\n",
    "            precision = num_same / len(pred)\n",
    "            recall = num_same / len(ref)\n",
    "            f1 = (2 * precision * recall) / (precision + recall)\n",
    "            f1_scores.append(f1)\n",
    "    return np.mean(f1_scores)\n",
    "\n",
    "# Evaluation function\n",
    "def evaluate(model, contexts, questions, answers):\n",
    "    model.eval()\n",
    "    predictions = []\n",
    "    references = [answer['text'] for answer in answers]\n",
    "    \n",
    "    for question, context in zip(questions, contexts):\n",
    "        inputs = tokenizer(question, context, return_tensors=\"pt\", max_length=512, truncation=True).to(device)\n",
    "        with torch.no_grad():\n",
    "            outputs = model(**inputs)\n",
    "            start_scores = outputs.start_logits\n",
    "            end_scores = outputs.end_logits\n",
    "            start_index = torch.argmax(start_scores)\n",
    "            end_index = torch.argmax(end_scores)\n",
    "            answer_tokens = inputs[\"input_ids\"][0][start_index:end_index + 1]\n",
    "            predicted_answer = tokenizer.decode(answer_tokens)\n",
    "            predictions.append(predicted_answer)\n",
    "    \n",
    "    return compute_f1(predictions, references)"
   ]
  },
  {
   "cell_type": "code",
   "execution_count": 5,
   "id": "1f3b03cc-0a7b-42c5-99ee-bdac0bbf6a41",
   "metadata": {},
   "outputs": [],
   "source": [
    "# Load datasets\n",
    "train_contexts, train_questions, train_answers = read_json(os.path.join(BASE_PATH, spoken_train))\n",
    "valid_contexts, valid_questions, valid_answers = read_json(os.path.join(BASE_PATH, spoken_test))\n",
    "valid_contexts_44, valid_questions_44, valid_answers_44 = read_json(os.path.join(BASE_PATH, spoken_test_WER44))\n",
    "valid_contexts_54, valid_questions_54, valid_answers_54 = read_json(os.path.join(BASE_PATH, spoken_test_WER54))"
   ]
  },
  {
   "cell_type": "code",
   "execution_count": 6,
   "id": "4d3dbd00-1577-4205-aca2-4b8a334563fb",
   "metadata": {},
   "outputs": [
    {
     "name": "stderr",
     "output_type": "stream",
     "text": [
      "Some weights of BertForQuestionAnswering were not initialized from the model checkpoint at bert-base-uncased and are newly initialized: ['qa_outputs.bias', 'qa_outputs.weight']\n",
      "You should probably TRAIN this model on a down-stream task to be able to use it for predictions and inference.\n"
     ]
    }
   ],
   "source": [
    "# Initialize tokenizer and model\n",
    "tokenizer = BertTokenizerFast.from_pretrained('bert-base-uncased')\n",
    "model = BertForQuestionAnswering.from_pretrained('bert-base-uncased').to(device)"
   ]
  },
  {
   "cell_type": "code",
   "execution_count": 7,
   "id": "427a106f-2b5c-4e86-89dd-44ba4cfbfc21",
   "metadata": {},
   "outputs": [],
   "source": [
    "# Prepare dataset and dataloader\n",
    "train_dataset = SpokenSQuADDataset(train_contexts, train_questions, train_answers, tokenizer)\n",
    "train_dataloader = DataLoader(train_dataset, batch_size=8, shuffle=True)"
   ]
  },
  {
   "cell_type": "code",
   "execution_count": 8,
   "id": "b46d4123-b663-4f15-b561-1622d76bc6ab",
   "metadata": {},
   "outputs": [
    {
     "name": "stderr",
     "output_type": "stream",
     "text": [
      "/home/tpittal/.local/lib/python3.11/site-packages/transformers/optimization.py:591: FutureWarning: This implementation of AdamW is deprecated and will be removed in a future version. Use the PyTorch implementation torch.optim.AdamW instead, or set `no_deprecation_warning=True` to disable this warning\n",
      "  warnings.warn(\n",
      "/local_scratch/slurm.1002706/ipykernel_3269230/4169654855.py:5: FutureWarning: `torch.cuda.amp.GradScaler(args...)` is deprecated. Please use `torch.amp.GradScaler('cuda', args...)` instead.\n",
      "  scaler = GradScaler()\n"
     ]
    }
   ],
   "source": [
    "# Optimizer, Scheduler, and Mixed Precision Scaler\n",
    "optimizer = AdamW(model.parameters(), lr=3e-5)\n",
    "total_steps = len(train_dataloader) * 3  # Assuming 3 epochs\n",
    "scheduler = get_linear_schedule_with_warmup(optimizer, num_warmup_steps=0, num_training_steps=total_steps)\n",
    "scaler = GradScaler()"
   ]
  },
  {
   "cell_type": "code",
   "execution_count": 9,
   "id": "93edad47-a47b-47d3-b019-127f7935d947",
   "metadata": {},
   "outputs": [],
   "source": [
    "# Tracking losses\n",
    "loss_arr = []"
   ]
  },
  {
   "cell_type": "code",
   "execution_count": 10,
   "id": "63f52e35-4d23-4208-9e4c-338b97221779",
   "metadata": {},
   "outputs": [
    {
     "name": "stderr",
     "output_type": "stream",
     "text": [
      "Epoch 1:   0%|          | 0/4639 [00:00<?, ?it/s]/local_scratch/slurm.1002706/ipykernel_3269230/3733335857.py:9: FutureWarning: `torch.cuda.amp.autocast(args...)` is deprecated. Please use `torch.amp.autocast('cuda', args...)` instead.\n",
      "  with autocast():\n",
      "                                                                        \r"
     ]
    },
    {
     "name": "stdout",
     "output_type": "stream",
     "text": [
      "Epoch 1 completed. Average Loss: 2.0533399940899\n"
     ]
    },
    {
     "name": "stderr",
     "output_type": "stream",
     "text": [
      "                                                                        \r"
     ]
    },
    {
     "name": "stdout",
     "output_type": "stream",
     "text": [
      "Epoch 2 completed. Average Loss: 1.1541308663636092\n"
     ]
    },
    {
     "name": "stderr",
     "output_type": "stream",
     "text": [
      "                                                                         \r"
     ]
    },
    {
     "name": "stdout",
     "output_type": "stream",
     "text": [
      "Epoch 3 completed. Average Loss: 0.7261948330288921\n"
     ]
    },
    {
     "name": "stderr",
     "output_type": "stream",
     "text": [
      "                                                                         \r"
     ]
    },
    {
     "name": "stdout",
     "output_type": "stream",
     "text": [
      "Epoch 4 completed. Average Loss: 0.5768096152468986\n"
     ]
    },
    {
     "name": "stderr",
     "output_type": "stream",
     "text": [
      "                                                                         \r"
     ]
    },
    {
     "name": "stdout",
     "output_type": "stream",
     "text": [
      "Epoch 5 completed. Average Loss: 0.5778491856495377\n"
     ]
    },
    {
     "name": "stderr",
     "output_type": "stream",
     "text": [
      "                                                                         \r"
     ]
    },
    {
     "name": "stdout",
     "output_type": "stream",
     "text": [
      "Epoch 6 completed. Average Loss: 0.5752082815227978\n"
     ]
    },
    {
     "name": "stderr",
     "output_type": "stream",
     "text": [
      "                                                                         \r"
     ]
    },
    {
     "name": "stdout",
     "output_type": "stream",
     "text": [
      "Epoch 7 completed. Average Loss: 0.5765512366956821\n"
     ]
    },
    {
     "name": "stderr",
     "output_type": "stream",
     "text": [
      "                                                                         \r"
     ]
    },
    {
     "name": "stdout",
     "output_type": "stream",
     "text": [
      "Epoch 8 completed. Average Loss: 0.5776310660544077\n"
     ]
    },
    {
     "name": "stderr",
     "output_type": "stream",
     "text": [
      "                                                                         \r"
     ]
    },
    {
     "name": "stdout",
     "output_type": "stream",
     "text": [
      "Epoch 9 completed. Average Loss: 0.5788095539921984\n"
     ]
    },
    {
     "name": "stderr",
     "output_type": "stream",
     "text": [
      "                                                                          "
     ]
    },
    {
     "name": "stdout",
     "output_type": "stream",
     "text": [
      "Epoch 10 completed. Average Loss: 0.5766334912516249\n"
     ]
    },
    {
     "name": "stderr",
     "output_type": "stream",
     "text": [
      "\r"
     ]
    }
   ],
   "source": [
    "# Training loop with progress bar\n",
    "for epoch in range(10):  # Define number of epochs\n",
    "    model.train()\n",
    "    epoch_loss = 0\n",
    "    progress_bar = tqdm(train_dataloader, desc=f\"Epoch {epoch + 1}\", leave=False)\n",
    "    for batch in progress_bar:\n",
    "        optimizer.zero_grad()\n",
    "\n",
    "        with autocast():\n",
    "            outputs = model(\n",
    "                input_ids=batch['input_ids'],\n",
    "                attention_mask=batch['attention_mask'],\n",
    "                start_positions=batch['start_positions'],\n",
    "                end_positions=batch['end_positions']\n",
    "            )\n",
    "            loss = outputs.loss\n",
    "\n",
    "        scaler.scale(loss).backward()\n",
    "        scaler.step(optimizer)\n",
    "        scaler.update()\n",
    "        scheduler.step()\n",
    "        \n",
    "        epoch_loss += loss.item()\n",
    "        progress_bar.set_postfix({\"Loss\": loss.item()})\n",
    "\n",
    "    avg_loss = epoch_loss / len(train_dataloader)\n",
    "    loss_arr.append(avg_loss)\n",
    "    print(f\"Epoch {epoch + 1} completed. Average Loss: {avg_loss}\")"
   ]
  },
  {
   "cell_type": "code",
   "execution_count": 11,
   "id": "dd503236-71a3-4aae-9abc-bc058d3515d1",
   "metadata": {
    "tags": []
   },
   "outputs": [
    {
     "name": "stdout",
     "output_type": "stream",
     "text": [
      "F1 Score on Test Data: 0.7039023236488036\n",
      "F1 Score on Test Data WER 44: 0.5483844780305721\n",
      "F1 Score on Test Data WER 54: 0.489973743654988\n",
      "Loss array: [2.0533399940899, 1.1541308663636092, 0.7261948330288921, 0.5768096152468986, 0.5778491856495377, 0.5752082815227978, 0.5765512366956821, 0.5776310660544077, 0.5788095539921984, 0.5766334912516249]\n"
     ]
    }
   ],
   "source": [
    "# Calculate F1 scores on test sets\n",
    "f1_test = evaluate(model, valid_contexts, valid_questions, valid_answers)\n",
    "f1_test_WER44 = evaluate(model, valid_contexts_44, valid_questions_44, valid_answers_44)\n",
    "f1_test_WER54 = evaluate(model, valid_contexts_54, valid_questions_54, valid_answers_54)\n",
    "\n",
    "# Display results\n",
    "print(f\"F1 Score on Test Data: {f1_test}\")\n",
    "print(f\"F1 Score on Test Data WER 44: {f1_test_WER44}\")\n",
    "print(f\"F1 Score on Test Data WER 54: {f1_test_WER54}\")\n",
    "\n",
    "# Loss array\n",
    "print(\"Loss array:\", loss_arr)"
   ]
  },
  {
   "cell_type": "code",
   "execution_count": 12,
   "id": "ca24a1ff-cfc7-4066-b426-9920fbfb8c59",
   "metadata": {
    "tags": []
   },
   "outputs": [
    {
     "data": {
      "image/png": "[encoded data removed]",
      "text/plain": [
       "<Figure size 800x600 with 1 Axes>"
      ]
     },
     "metadata": {},
     "output_type": "display_data"
    }
   ],
   "source": [
    "plt.figure(figsize=(8, 6))\n",
    "plt.plot(range(1, len(loss_arr) + 1), loss_arr, marker='o', linestyle='-', linewidth=2)\n",
    "plt.title(\"Training Loss over Epochs\")\n",
    "plt.xlabel(\"Epoch\")\n",
    "plt.ylabel(\"Loss\")\n",
    "plt.xticks(range(1, len(loss_arr) + 1))\n",
    "plt.grid(True)\n",
    "plt.show()"
   ]
  },
  {
   "cell_type": "code",
   "execution_count": null,
   "id": "de15c84c-9633-49d1-9e9c-1d3eb63ba5e3",
   "metadata": {},
   "outputs": [],
   "source": []
  }
 ],
 "metadata": {
  "kernelspec": {
   "display_name": "Python 3 (ipykernel)",
   "language": "python",
   "name": "python3"
  },
  "language_info": {
   "codemirror_mode": {
    "name": "ipython",
    "version": 3
   },
   "file_extension": ".py",
   "mimetype": "text/x-python",
   "name": "python",
   "nbconvert_exporter": "python",
   "pygments_lexer": "ipython3",
   "version": "3.11.5"
  }
 },
 "nbformat": 4,
 "nbformat_minor": 5
}
